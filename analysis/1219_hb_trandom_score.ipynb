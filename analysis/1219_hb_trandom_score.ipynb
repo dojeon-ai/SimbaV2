{
 "cells": [
  {
   "cell_type": "code",
   "execution_count": 1,
   "metadata": {},
   "outputs": [],
   "source": [
    "import sys\n",
    "import os\n",
    "sys.path.append(\"../\")\n",
    "sys.path.append(\"../../\")"
   ]
  },
  {
   "cell_type": "code",
   "execution_count": 2,
   "metadata": {},
   "outputs": [],
   "source": [
    "from scale_rl.common.wandb_utils import *"
   ]
  },
  {
   "cell_type": "code",
   "execution_count": 3,
   "metadata": {},
   "outputs": [],
   "source": [
    "entity = 'draftrec'\n",
    "project_name = 'Simba_2412'\n",
    "run_exp_names_to_analysis_exp_names = {\n",
    "    'random': 'hb_random',\n",
    "}\n",
    "run_exp_names = list(run_exp_names_to_analysis_exp_names.keys())\n",
    "metrics = ['avg_return']"
   ]
  },
  {
   "cell_type": "code",
   "execution_count": 4,
   "metadata": {},
   "outputs": [
    {
     "data": {
      "application/vnd.jupyter.widget-view+json": {
       "model_id": "bd6ca2953a494879a026b3c9fd6f9f58",
       "version_major": 2,
       "version_minor": 0
      },
      "text/plain": [
       "  0%|          | 0/710 [00:00<?, ?it/s]"
      ]
     },
     "metadata": {},
     "output_type": "display_data"
    },
    {
     "data": {
      "application/vnd.jupyter.widget-view+json": {
       "model_id": "79a568ac71614f5c9005cb94dcdbf307",
       "version_major": 2,
       "version_minor": 0
      },
      "text/plain": [
       "  0%|          | 0/450 [00:00<?, ?it/s]"
      ]
     },
     "metadata": {},
     "output_type": "display_data"
    },
    {
     "data": {
      "application/vnd.jupyter.widget-view+json": {
       "model_id": "c53caab1b59a40738bbdf8eb3a3828e9",
       "version_major": 2,
       "version_minor": 0
      },
      "text/plain": [
       "  0%|          | 0/450 [00:00<?, ?it/s]"
      ]
     },
     "metadata": {},
     "output_type": "display_data"
    },
    {
     "data": {
      "text/html": [
       "<div>\n",
       "<style scoped>\n",
       "    .dataframe tbody tr th:only-of-type {\n",
       "        vertical-align: middle;\n",
       "    }\n",
       "\n",
       "    .dataframe tbody tr th {\n",
       "        vertical-align: top;\n",
       "    }\n",
       "\n",
       "    .dataframe thead th {\n",
       "        text-align: right;\n",
       "    }\n",
       "</style>\n",
       "<table border=\"1\" class=\"dataframe\">\n",
       "  <thead>\n",
       "    <tr style=\"text-align: right;\">\n",
       "      <th></th>\n",
       "      <th>exp_name</th>\n",
       "      <th>env_name</th>\n",
       "      <th>seed</th>\n",
       "      <th>metric</th>\n",
       "      <th>env_step</th>\n",
       "      <th>value</th>\n",
       "    </tr>\n",
       "  </thead>\n",
       "  <tbody>\n",
       "    <tr>\n",
       "      <th>0</th>\n",
       "      <td>hb_random</td>\n",
       "      <td>h1hand-sit-simple-v0</td>\n",
       "      <td>7000</td>\n",
       "      <td>avg_return</td>\n",
       "      <td>0</td>\n",
       "      <td>9.827723</td>\n",
       "    </tr>\n",
       "    <tr>\n",
       "      <th>1</th>\n",
       "      <td>hb_random</td>\n",
       "      <td>h1hand-reach-v0</td>\n",
       "      <td>7000</td>\n",
       "      <td>avg_return</td>\n",
       "      <td>0</td>\n",
       "      <td>-399.915028</td>\n",
       "    </tr>\n",
       "    <tr>\n",
       "      <th>2</th>\n",
       "      <td>hb_random</td>\n",
       "      <td>h1hand-crawl-v0</td>\n",
       "      <td>7000</td>\n",
       "      <td>avg_return</td>\n",
       "      <td>0</td>\n",
       "      <td>228.357566</td>\n",
       "    </tr>\n",
       "    <tr>\n",
       "      <th>3</th>\n",
       "      <td>hb_random</td>\n",
       "      <td>h1hand-insert-normal-v0</td>\n",
       "      <td>9000</td>\n",
       "      <td>avg_return</td>\n",
       "      <td>0</td>\n",
       "      <td>1.662461</td>\n",
       "    </tr>\n",
       "    <tr>\n",
       "      <th>4</th>\n",
       "      <td>hb_random</td>\n",
       "      <td>h1hand-insert-small-v0</td>\n",
       "      <td>9000</td>\n",
       "      <td>avg_return</td>\n",
       "      <td>0</td>\n",
       "      <td>1.865509</td>\n",
       "    </tr>\n",
       "    <tr>\n",
       "      <th>...</th>\n",
       "      <td>...</td>\n",
       "      <td>...</td>\n",
       "      <td>...</td>\n",
       "      <td>...</td>\n",
       "      <td>...</td>\n",
       "      <td>...</td>\n",
       "    </tr>\n",
       "    <tr>\n",
       "      <th>445</th>\n",
       "      <td>hb_random</td>\n",
       "      <td>h1-hurdle-v0</td>\n",
       "      <td>0</td>\n",
       "      <td>avg_return</td>\n",
       "      <td>0</td>\n",
       "      <td>1.803452</td>\n",
       "    </tr>\n",
       "    <tr>\n",
       "      <th>446</th>\n",
       "      <td>hb_random</td>\n",
       "      <td>h1-reach-v0</td>\n",
       "      <td>0</td>\n",
       "      <td>avg_return</td>\n",
       "      <td>0</td>\n",
       "      <td>127.122555</td>\n",
       "    </tr>\n",
       "    <tr>\n",
       "      <th>447</th>\n",
       "      <td>hb_random</td>\n",
       "      <td>h1-run-v0</td>\n",
       "      <td>0</td>\n",
       "      <td>avg_return</td>\n",
       "      <td>0</td>\n",
       "      <td>1.892806</td>\n",
       "    </tr>\n",
       "    <tr>\n",
       "      <th>448</th>\n",
       "      <td>hb_random</td>\n",
       "      <td>h1-stand-v0</td>\n",
       "      <td>0</td>\n",
       "      <td>avg_return</td>\n",
       "      <td>0</td>\n",
       "      <td>10.562486</td>\n",
       "    </tr>\n",
       "    <tr>\n",
       "      <th>449</th>\n",
       "      <td>hb_random</td>\n",
       "      <td>h1-walk-v0</td>\n",
       "      <td>0</td>\n",
       "      <td>avg_return</td>\n",
       "      <td>0</td>\n",
       "      <td>2.271753</td>\n",
       "    </tr>\n",
       "  </tbody>\n",
       "</table>\n",
       "<p>450 rows × 6 columns</p>\n",
       "</div>"
      ],
      "text/plain": [
       "      exp_name                 env_name  seed      metric  env_step  \\\n",
       "0    hb_random     h1hand-sit-simple-v0  7000  avg_return         0   \n",
       "1    hb_random          h1hand-reach-v0  7000  avg_return         0   \n",
       "2    hb_random          h1hand-crawl-v0  7000  avg_return         0   \n",
       "3    hb_random  h1hand-insert-normal-v0  9000  avg_return         0   \n",
       "4    hb_random   h1hand-insert-small-v0  9000  avg_return         0   \n",
       "..         ...                      ...   ...         ...       ...   \n",
       "445  hb_random             h1-hurdle-v0     0  avg_return         0   \n",
       "446  hb_random              h1-reach-v0     0  avg_return         0   \n",
       "447  hb_random                h1-run-v0     0  avg_return         0   \n",
       "448  hb_random              h1-stand-v0     0  avg_return         0   \n",
       "449  hb_random               h1-walk-v0     0  avg_return         0   \n",
       "\n",
       "          value  \n",
       "0      9.827723  \n",
       "1   -399.915028  \n",
       "2    228.357566  \n",
       "3      1.662461  \n",
       "4      1.865509  \n",
       "..          ...  \n",
       "445    1.803452  \n",
       "446  127.122555  \n",
       "447    1.892806  \n",
       "448   10.562486  \n",
       "449    2.271753  \n",
       "\n",
       "[450 rows x 6 columns]"
      ]
     },
     "execution_count": 4,
     "metadata": {},
     "output_type": "execute_result"
    }
   ],
   "source": [
    "runs = collect_runs(entity=entity, project_name=project_name) \n",
    "filtered_runs = filter_runs(runs, exp_names = run_exp_names)\n",
    "wandb_df = convert_runs_to_dataframe(\n",
    "    runs = filtered_runs, \n",
    "    run_exp_name_to_analysis_exp_name=run_exp_names_to_analysis_exp_names\n",
    ")\n",
    "wandb_df = wandb_df[wandb_df.apply(lambda row: 'finished' in str(row['run']), axis=1)]\n",
    "eval_df = convert_wandb_df_to_eval_df(wandb_df, metrics)\n",
    "eval_df['env_name'] = eval_df['env_name'].str.replace('_', '-')\n",
    "eval_df\n"
   ]
  },
  {
   "cell_type": "code",
   "execution_count": 5,
   "metadata": {},
   "outputs": [
    {
     "name": "stderr",
     "output_type": "stream",
     "text": [
      "/home/nas4_user/youngdolee/anaconda3/envs/scale_rl/lib/python3.9/site-packages/glfw/__init__.py:916: GLFWError: (65544) b'X11: The DISPLAY environment variable is missing'\n",
      "  warnings.warn(message, GLFWError)\n"
     ]
    }
   ],
   "source": [
    "from scale_rl.envs.humanoid_bench import HB_LOCOMOTION_NOHAND, HB_MANIPULATION, HB_LOCOMOTION \n",
    "HB_ALL = HB_LOCOMOTION_NOHAND + HB_MANIPULATION + HB_LOCOMOTION\n",
    "\n",
    "def replace_hypen_to_underbar(env_name_list):\n",
    "    for idx in range(len(env_name_list)):\n",
    "        env_name_list[idx] = env_name_list[idx].replace('_', '-')\n",
    "    return env_name_list\n",
    "\n",
    "HB_ALL = replace_hypen_to_underbar(HB_ALL)"
   ]
  },
  {
   "cell_type": "code",
   "execution_count": 6,
   "metadata": {},
   "outputs": [
    {
     "name": "stdout",
     "output_type": "stream",
     "text": [
      "h1-walk-v0 num_seeds: 10\n",
      "h1-stand-v0 num_seeds: 10\n",
      "h1-run-v0 num_seeds: 10\n",
      "h1-reach-v0 num_seeds: 10\n",
      "h1-hurdle-v0 num_seeds: 10\n",
      "h1-crawl-v0 num_seeds: 10\n",
      "h1-maze-v0 num_seeds: 10\n",
      "h1-sit-simple-v0 num_seeds: 10\n",
      "h1-sit-hard-v0 num_seeds: 10\n",
      "h1-balance-simple-v0 num_seeds: 10\n",
      "h1-balance-hard-v0 num_seeds: 10\n",
      "h1-stair-v0 num_seeds: 10\n",
      "h1-slide-v0 num_seeds: 10\n",
      "h1-pole-v0 num_seeds: 10\n",
      "h1hand-push-v0 num_seeds: 10\n",
      "h1hand-cabinet-v0 num_seeds: 10\n",
      "h1strong-highbar-hard-v0 num_seeds: 10\n",
      "h1hand-door-v0 num_seeds: 10\n",
      "h1hand-truck-v0 num_seeds: 10\n",
      "h1hand-cube-v0 num_seeds: 10\n",
      "h1hand-bookshelf-simple-v0 num_seeds: 10\n",
      "h1hand-bookshelf-hard-v0 num_seeds: 10\n",
      "h1hand-basketball-v0 num_seeds: 10\n",
      "h1hand-window-v0 num_seeds: 10\n",
      "h1hand-spoon-v0 num_seeds: 10\n",
      "h1hand-kitchen-v0 num_seeds: 10\n",
      "h1hand-package-v0 num_seeds: 10\n",
      "h1hand-powerlift-v0 num_seeds: 10\n",
      "h1hand-room-v0 num_seeds: 10\n",
      "h1hand-insert-small-v0 num_seeds: 10\n",
      "h1hand-insert-normal-v0 num_seeds: 10\n",
      "h1hand-walk-v0 num_seeds: 10\n",
      "h1hand-stand-v0 num_seeds: 10\n",
      "h1hand-run-v0 num_seeds: 10\n",
      "h1hand-reach-v0 num_seeds: 10\n",
      "h1hand-hurdle-v0 num_seeds: 10\n",
      "h1hand-crawl-v0 num_seeds: 10\n",
      "h1hand-maze-v0 num_seeds: 10\n",
      "h1hand-sit-simple-v0 num_seeds: 10\n",
      "h1hand-sit-hard-v0 num_seeds: 10\n",
      "h1hand-balance-simple-v0 num_seeds: 10\n",
      "h1hand-balance-hard-v0 num_seeds: 10\n",
      "h1hand-stair-v0 num_seeds: 10\n",
      "h1hand-slide-v0 num_seeds: 10\n",
      "h1hand-pole-v0 num_seeds: 10\n"
     ]
    }
   ],
   "source": [
    "for env in HB_ALL:\n",
    "    _env_df = eval_df[eval_df[\"env_name\"] == env]\n",
    "    num_seeds = _env_df[\"seed\"].nunique()\n",
    "    print(f\"{env} num_seeds: {num_seeds}\")"
   ]
  },
  {
   "cell_type": "code",
   "execution_count": 7,
   "metadata": {},
   "outputs": [
    {
     "data": {
      "text/plain": [
       "env_name\n",
       "h1-balance-hard-v0                9.043937\n",
       "h1-balance-simple-v0              9.390737\n",
       "h1-crawl-v0                     272.658133\n",
       "h1-hurdle-v0                      2.213775\n",
       "h1-maze-v0                      106.441220\n",
       "h1-pole-v0                       20.090273\n",
       "h1-reach-v0                     260.301634\n",
       "h1-run-v0                         2.019698\n",
       "h1-sit-hard-v0                    2.448103\n",
       "h1-sit-simple-v0                  9.392769\n",
       "h1-slide-v0                       3.191412\n",
       "h1-stair-v0                       3.112109\n",
       "h1-stand-v0                      10.545491\n",
       "h1-walk-v0                        2.377461\n",
       "h1hand-balance-hard-v0           10.032139\n",
       "h1hand-balance-simple-v0         10.170177\n",
       "h1hand-basketball-v0              8.978986\n",
       "h1hand-bookshelf-hard-v0         14.847722\n",
       "h1hand-bookshelf-simple-v0       16.777240\n",
       "h1hand-cabinet-v0                37.732754\n",
       "h1hand-crawl-v0                 278.867818\n",
       "h1hand-cube-v0                    4.787425\n",
       "h1hand-door-v0                    2.771356\n",
       "h1hand-hurdle-v0                  2.370590\n",
       "h1hand-insert-normal-v0           1.672609\n",
       "h1hand-insert-small-v0            1.652955\n",
       "h1hand-kitchen-v0                 0.000000\n",
       "h1hand-maze-v0                  106.232668\n",
       "h1hand-package-v0            -10040.931799\n",
       "h1hand-pole-v0                   19.720658\n",
       "h1hand-powerlift-v0              17.637729\n",
       "h1hand-push-v0                 -526.799504\n",
       "h1hand-reach-v0                 -50.024031\n",
       "h1hand-room-v0                    3.017569\n",
       "h1hand-run-v0                     1.927349\n",
       "h1hand-sit-hard-v0                2.477258\n",
       "h1hand-sit-simple-v0             10.768356\n",
       "h1hand-slide-v0                   3.141699\n",
       "h1hand-spoon-v0                   4.660643\n",
       "h1hand-stair-v0                   3.161312\n",
       "h1hand-stand-v0                  11.973270\n",
       "h1hand-truck-v0                 562.418981\n",
       "h1hand-walk-v0                    2.505395\n",
       "h1hand-window-v0                  2.712551\n",
       "h1strong-highbar-hard-v0          0.178210\n",
       "Name: value, dtype: float64"
      ]
     },
     "execution_count": 7,
     "metadata": {},
     "output_type": "execute_result"
    }
   ],
   "source": [
    "grouped_data = eval_df.groupby(\"env_name\")[\"value\"]\n",
    "random_score_df = grouped_data.mean()\n",
    "random_score_df "
   ]
  },
  {
   "cell_type": "code",
   "execution_count": 8,
   "metadata": {},
   "outputs": [
    {
     "data": {
      "text/plain": [
       "{'h1-walk-v0': 2.377,\n",
       " 'h1-stand-v0': 10.545,\n",
       " 'h1-run-v0': 2.02,\n",
       " 'h1-reach-v0': 260.302,\n",
       " 'h1-hurdle-v0': 2.214,\n",
       " 'h1-crawl-v0': 272.658,\n",
       " 'h1-maze-v0': 106.441,\n",
       " 'h1-sit-simple-v0': 9.393,\n",
       " 'h1-sit-hard-v0': 2.448,\n",
       " 'h1-balance-simple-v0': 9.391,\n",
       " 'h1-balance-hard-v0': 9.044,\n",
       " 'h1-stair-v0': 3.112,\n",
       " 'h1-slide-v0': 3.191,\n",
       " 'h1-pole-v0': 20.09,\n",
       " 'h1hand-push-v0': -526.8,\n",
       " 'h1hand-cabinet-v0': 37.733,\n",
       " 'h1strong-highbar-hard-v0': 0.178,\n",
       " 'h1hand-door-v0': 2.771,\n",
       " 'h1hand-truck-v0': 562.419,\n",
       " 'h1hand-cube-v0': 4.787,\n",
       " 'h1hand-bookshelf-simple-v0': 16.777,\n",
       " 'h1hand-bookshelf-hard-v0': 14.848,\n",
       " 'h1hand-basketball-v0': 8.979,\n",
       " 'h1hand-window-v0': 2.713,\n",
       " 'h1hand-spoon-v0': 4.661,\n",
       " 'h1hand-kitchen-v0': 0.0,\n",
       " 'h1hand-package-v0': -10040.932,\n",
       " 'h1hand-powerlift-v0': 17.638,\n",
       " 'h1hand-room-v0': 3.018,\n",
       " 'h1hand-insert-small-v0': 1.653,\n",
       " 'h1hand-insert-normal-v0': 1.673,\n",
       " 'h1hand-walk-v0': 2.505,\n",
       " 'h1hand-stand-v0': 11.973,\n",
       " 'h1hand-run-v0': 1.927,\n",
       " 'h1hand-reach-v0': -50.024,\n",
       " 'h1hand-hurdle-v0': 2.371,\n",
       " 'h1hand-crawl-v0': 278.868,\n",
       " 'h1hand-maze-v0': 106.233,\n",
       " 'h1hand-sit-simple-v0': 10.768,\n",
       " 'h1hand-sit-hard-v0': 2.477,\n",
       " 'h1hand-balance-simple-v0': 10.17,\n",
       " 'h1hand-balance-hard-v0': 10.032,\n",
       " 'h1hand-stair-v0': 3.161,\n",
       " 'h1hand-slide-v0': 3.142,\n",
       " 'h1hand-pole-v0': 19.721}"
      ]
     },
     "execution_count": 8,
     "metadata": {},
     "output_type": "execute_result"
    }
   ],
   "source": [
    "random_score_dict = random_score_df.to_dict()\n",
    "HB_RANDOM_SCORE = {}\n",
    "\n",
    "for env in HB_ALL:\n",
    "    HB_RANDOM_SCORE[env] = round(random_score_dict[env], 3)\n",
    "    \n",
    "HB_RANDOM_SCORE"
   ]
  }
 ],
 "metadata": {
  "kernelspec": {
   "display_name": "scale_rl",
   "language": "python",
   "name": "python3"
  },
  "language_info": {
   "codemirror_mode": {
    "name": "ipython",
    "version": 3
   },
   "file_extension": ".py",
   "mimetype": "text/x-python",
   "name": "python",
   "nbconvert_exporter": "python",
   "pygments_lexer": "ipython3",
   "version": "3.9.0"
  }
 },
 "nbformat": 4,
 "nbformat_minor": 2
}
