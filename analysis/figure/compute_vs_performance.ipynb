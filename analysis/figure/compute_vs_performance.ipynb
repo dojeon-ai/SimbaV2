{
 "cells": [
  {
   "cell_type": "code",
   "execution_count": 3,
   "metadata": {},
   "outputs": [],
   "source": [
    "import matplotlib.pyplot as plt\n",
    "import seaborn as sns\n",
    "import numpy as np\n",
    "import pandas as pd"
   ]
  },
  {
   "cell_type": "code",
   "execution_count": 15,
   "metadata": {},
   "outputs": [],
   "source": [
    "methods = ['SimbaV2', 'Simba', 'TD7', 'TD-MPC2', 'BRO', 'SAC']\n",
    "\n",
    "# Create an empty DataFrame with the specified columns\n",
    "df = pd.DataFrame(columns=['methods', 'time', 'performance'])"
   ]
  },
  {
   "cell_type": "markdown",
   "metadata": {},
   "source": [
    "#### SimbaV2"
   ]
  },
  {
   "cell_type": "code",
   "execution_count": 16,
   "metadata": {},
   "outputs": [],
   "source": [
    "rows = [] \n",
    "# rr1: 0.7 / 0.2\n",
    "rows.append({\n",
    "    'methods': \"SimbaV2\",\n",
    "    'time': 0.9,\n",
    "    'performance': 0.848,\n",
    "})\n",
    "rows.append({\n",
    "    'methods': \"SimbaV2\",\n",
    "    'time': 1.6,\n",
    "    'performance': 0.892,\n",
    "})\n",
    "rows.append({\n",
    "    'methods': \"SimbaV2\",\n",
    "    'time': 3.0,\n",
    "    'performance': 0.897,\n",
    "})\n",
    "rows.append({\n",
    "    'methods': \"SimbaV2\",\n",
    "    'time': 5.8,\n",
    "    'performance': 0.912,\n",
    "})"
   ]
  },
  {
   "cell_type": "markdown",
   "metadata": {},
   "source": [
    "#### Simba"
   ]
  },
  {
   "cell_type": "code",
   "execution_count": 17,
   "metadata": {},
   "outputs": [],
   "source": [
    "# rr1: 0.68 / 0.2\n",
    "rows.append({\n",
    "    'methods': \"Simba\",\n",
    "    'time': 0.88,\n",
    "    'performance': 0.765,\n",
    "})\n",
    "rows.append({\n",
    "    'methods': \"Simba\",\n",
    "    'time': 1.56,\n",
    "    'performance': 0.780,\n",
    "})\n",
    "rows.append({\n",
    "    'methods': \"Simba\",\n",
    "    'time': 2.92,\n",
    "    'performance': 0.798,\n",
    "})\n",
    "rows.append({\n",
    "    'methods': \"Simba\",\n",
    "    'time': 5.64,\n",
    "    'performance': 0.830,\n",
    "})"
   ]
  },
  {
   "cell_type": "markdown",
   "metadata": {},
   "source": [
    "#### Other baselines"
   ]
  },
  {
   "cell_type": "code",
   "execution_count": 18,
   "metadata": {},
   "outputs": [],
   "source": [
    "rows.append({\n",
    "    'methods': \"TD-MPC2\",\n",
    "    'time': 2.31,\n",
    "    'performance': 0.749,\n",
    "})\n",
    "\n",
    "rows.append({\n",
    "    'methods': \"TD7\",\n",
    "    'time': 1.05,\n",
    "    'performance': 0.617,\n",
    "})\n",
    "\n",
    "#rows.append({\n",
    "#    'methods': \"DreamerV3\",\n",
    "#    'time': 5.0,\n",
    "#    'performance': 0.397,\n",
    "#})\n",
    "\n",
    "rows.append({\n",
    "    'methods': \"BRO\",\n",
    "    'time': 1.73,\n",
    "    'performance': 0.731,\n",
    "})\n",
    "\n",
    "# RR10\n",
    "rows.append({\n",
    "    'methods': \"BRO\",\n",
    "    'time': 7.73,\n",
    "    'performance': 0.771,\n",
    "})\n",
    "\n",
    "#rows.append({\n",
    "#    'methods': \"SAC\",\n",
    "#    'time': 5.0,\n",
    "#    'performance': 0.450,\n",
    "#})"
   ]
  },
  {
   "cell_type": "markdown",
   "metadata": {},
   "source": [
    "### Aggregation"
   ]
  },
  {
   "cell_type": "code",
   "execution_count": 19,
   "metadata": {},
   "outputs": [
    {
     "name": "stderr",
     "output_type": "stream",
     "text": [
      "/tmp/ipykernel_980145/3599311929.py:2: FutureWarning: The behavior of DataFrame concatenation with empty or all-NA entries is deprecated. In a future version, this will no longer exclude empty or all-NA columns when determining the result dtypes. To retain the old behavior, exclude the relevant entries before the concat operation.\n",
      "  df = pd.concat([df, new_df], ignore_index=True)\n"
     ]
    },
    {
     "data": {
      "text/html": [
       "<div>\n",
       "<style scoped>\n",
       "    .dataframe tbody tr th:only-of-type {\n",
       "        vertical-align: middle;\n",
       "    }\n",
       "\n",
       "    .dataframe tbody tr th {\n",
       "        vertical-align: top;\n",
       "    }\n",
       "\n",
       "    .dataframe thead th {\n",
       "        text-align: right;\n",
       "    }\n",
       "</style>\n",
       "<table border=\"1\" class=\"dataframe\">\n",
       "  <thead>\n",
       "    <tr style=\"text-align: right;\">\n",
       "      <th></th>\n",
       "      <th>methods</th>\n",
       "      <th>time</th>\n",
       "      <th>performance</th>\n",
       "    </tr>\n",
       "  </thead>\n",
       "  <tbody>\n",
       "    <tr>\n",
       "      <th>0</th>\n",
       "      <td>SimbaV2</td>\n",
       "      <td>0.90</td>\n",
       "      <td>0.848</td>\n",
       "    </tr>\n",
       "    <tr>\n",
       "      <th>1</th>\n",
       "      <td>SimbaV2</td>\n",
       "      <td>1.60</td>\n",
       "      <td>0.892</td>\n",
       "    </tr>\n",
       "    <tr>\n",
       "      <th>2</th>\n",
       "      <td>SimbaV2</td>\n",
       "      <td>3.00</td>\n",
       "      <td>0.897</td>\n",
       "    </tr>\n",
       "    <tr>\n",
       "      <th>3</th>\n",
       "      <td>SimbaV2</td>\n",
       "      <td>5.80</td>\n",
       "      <td>0.912</td>\n",
       "    </tr>\n",
       "    <tr>\n",
       "      <th>4</th>\n",
       "      <td>Simba</td>\n",
       "      <td>0.88</td>\n",
       "      <td>0.765</td>\n",
       "    </tr>\n",
       "    <tr>\n",
       "      <th>5</th>\n",
       "      <td>Simba</td>\n",
       "      <td>1.56</td>\n",
       "      <td>0.780</td>\n",
       "    </tr>\n",
       "    <tr>\n",
       "      <th>6</th>\n",
       "      <td>Simba</td>\n",
       "      <td>2.92</td>\n",
       "      <td>0.798</td>\n",
       "    </tr>\n",
       "    <tr>\n",
       "      <th>7</th>\n",
       "      <td>Simba</td>\n",
       "      <td>5.64</td>\n",
       "      <td>0.830</td>\n",
       "    </tr>\n",
       "    <tr>\n",
       "      <th>8</th>\n",
       "      <td>TD-MPC2</td>\n",
       "      <td>2.31</td>\n",
       "      <td>0.749</td>\n",
       "    </tr>\n",
       "    <tr>\n",
       "      <th>9</th>\n",
       "      <td>TD7</td>\n",
       "      <td>1.05</td>\n",
       "      <td>0.617</td>\n",
       "    </tr>\n",
       "    <tr>\n",
       "      <th>10</th>\n",
       "      <td>BRO</td>\n",
       "      <td>1.73</td>\n",
       "      <td>0.731</td>\n",
       "    </tr>\n",
       "    <tr>\n",
       "      <th>11</th>\n",
       "      <td>BRO</td>\n",
       "      <td>7.73</td>\n",
       "      <td>0.771</td>\n",
       "    </tr>\n",
       "  </tbody>\n",
       "</table>\n",
       "</div>"
      ],
      "text/plain": [
       "    methods  time  performance\n",
       "0   SimbaV2  0.90        0.848\n",
       "1   SimbaV2  1.60        0.892\n",
       "2   SimbaV2  3.00        0.897\n",
       "3   SimbaV2  5.80        0.912\n",
       "4     Simba  0.88        0.765\n",
       "5     Simba  1.56        0.780\n",
       "6     Simba  2.92        0.798\n",
       "7     Simba  5.64        0.830\n",
       "8   TD-MPC2  2.31        0.749\n",
       "9       TD7  1.05        0.617\n",
       "10      BRO  1.73        0.731\n",
       "11      BRO  7.73        0.771"
      ]
     },
     "execution_count": 19,
     "metadata": {},
     "output_type": "execute_result"
    }
   ],
   "source": [
    "new_df = pd.DataFrame(rows)\n",
    "df = pd.concat([df, new_df], ignore_index=True)\n",
    "df"
   ]
  },
  {
   "cell_type": "code",
   "execution_count": 20,
   "metadata": {},
   "outputs": [],
   "source": [
    "# Define the number of ticks and gridlines\n",
    "def set_identical_grid(ax, num_x_ticks=10, num_y_ticks=10):\n",
    "    ax.xaxis.set_major_locator(plt.MaxNLocator(num_x_ticks, integer=True))\n",
    "    ax.yaxis.set_major_locator(plt.MaxNLocator(num_y_ticks, integer=True))\n",
    "    ax.xaxis.grid(True, linestyle='--', linewidth=0.7)\n",
    "    ax.yaxis.grid(True, linestyle='--', linewidth=0.7)\n",
    "    ax.set_xticks(np.linspace(ax.get_xlim()[0], ax.get_xlim()[1], num_x_ticks))\n",
    "    ax.set_yticks(np.linspace(ax.get_ylim()[0], ax.get_ylim()[1], num_y_ticks)[:-1])\n",
    "\n",
    "def simple_axis(ax):\n",
    "    ax.spines['top'].set_visible(False)\n",
    "    ax.spines['right'].set_visible(False)\n",
    "    #ax.get_xaxis().tick_bottom()\n",
    "    #ax.get_yaxis().tick_left()"
   ]
  },
  {
   "cell_type": "code",
   "execution_count": 21,
   "metadata": {},
   "outputs": [],
   "source": [
    "colors = {\n",
    "    'SimbaV2': \"#648EF6\",\n",
    "    'Simba': \"#F6CC64\",\n",
    "    'TD-MPC2': \"#E6E6E6\",\n",
    "    'TD7': \"#E6E6E6\",\n",
    "    'BRO': sns.color_palette(\"RdPu\",20)[7],\n",
    "    'SAC': \"#E6E6E6\",\n",
    "}"
   ]
  },
  {
   "cell_type": "code",
   "execution_count": null,
   "metadata": {},
   "outputs": [],
   "source": []
  },
  {
   "cell_type": "code",
   "execution_count": 26,
   "metadata": {},
   "outputs": [
    {
     "data": {
      "image/png": "[encoded data removed]",
      "text/plain": [
       "<Figure size 400x300 with 1 Axes>"
      ]
     },
     "metadata": {},
     "output_type": "display_data"
    }
   ],
   "source": [
    "fig, ax = plt.subplots(1, 1, figsize=(4, 3))\n",
    "\n",
    "\n",
    "x_lim_min = 0\n",
    "x_lim_max = 7.5\n",
    "y_lim_min = 0.6\n",
    "y_lim_max = 0.97\n",
    "num_x_ticks=6\n",
    "num_y_ticks=6\n",
    "\n",
    "title = '57 continuous control tasks'\n",
    "y_label = 'Success-normalized score'\n",
    "\n",
    "for method in methods:\n",
    "    method_data = df[df['methods'] == method]\n",
    "    if not method_data.empty:\n",
    "        ax.scatter(method_data['time'], method_data['performance'], \n",
    "                    color=colors[method], label=method, s=40)\n",
    "        \n",
    "        ax.plot(method_data['time'], method_data['performance'],\n",
    "                color=colors[method])\n",
    "        \n",
    "        # Annotate each point with its method name\n",
    "        x_interval = x_lim_max - x_lim_min\n",
    "        y_interval = y_lim_max - y_lim_min\n",
    "\n",
    "        x_annot = method_data['time'].values[-1] + x_interval * 0.025\n",
    "        y_annot = method_data['performance'].values[-1] + y_interval * 0.02\n",
    "        ax.text(x_annot, y_annot, method, fontsize=10, ha='left')\n",
    "\n",
    "    #ax.set_title(title + '\\n', fontsize=11.5, y= 0.99) #, fontweight='semibold')\n",
    "    ax.set_xlabel('Training Time (hr)')\n",
    "    ax.set_ylabel(y_label)\n",
    "    ax.set_xlim(0, x_lim_max)\n",
    "    ax.set_ylim(y_lim_min, y_lim_max)\n",
    "    set_identical_grid(ax, num_x_ticks=num_x_ticks, num_y_ticks=num_y_ticks)\n",
    "    sns.despine(ax=ax)\n",
    "            \n",
    "    ax.set_ylim(y_lim_min, y_lim_max - (y_lim_max-y_lim_min)*0.05)\n",
    "    ax.set_xlim(x_lim_min, x_lim_max + (x_lim_max-x_lim_min)*0.10)\n",
    "\n",
    "\"\"\"\n",
    "# Create a combined legend\n",
    "handles, labels = [], []\n",
    "for method in methods:\n",
    "    handles.append(plt.Line2D([0], [0], marker='o', color='w', markerfacecolor=colors[list(methods).index(method)], markersize=10, label=method))\n",
    "fig.legend(handles=handles, labels=methods, loc='upper center', bbox_to_anchor=(0.5, 1.08), ncol=6)\n",
    "\"\"\"\n",
    "# Adjust layout\n",
    "plt.tight_layout()\n",
    "#plt.subplots_adjust(wspace=0.4)\n",
    "#plt.savefig(\"sec5_off_policy_scatter.pdf\",bbox_inches='tight')\n",
    "#plt.show()"
   ]
  },
  {
   "cell_type": "code",
   "execution_count": null,
   "metadata": {},
   "outputs": [],
   "source": []
  },
  {
   "cell_type": "code",
   "execution_count": null,
   "metadata": {},
   "outputs": [],
   "source": []
  },
  {
   "cell_type": "code",
   "execution_count": null,
   "metadata": {},
   "outputs": [],
   "source": []
  },
  {
   "cell_type": "code",
   "execution_count": null,
   "metadata": {},
   "outputs": [],
   "source": []
  },
  {
   "cell_type": "code",
   "execution_count": null,
   "metadata": {},
   "outputs": [],
   "source": []
  },
  {
   "cell_type": "code",
   "execution_count": null,
   "metadata": {},
   "outputs": [],
   "source": []
  },
  {
   "cell_type": "code",
   "execution_count": null,
   "metadata": {},
   "outputs": [],
   "source": []
  },
  {
   "cell_type": "code",
   "execution_count": null,
   "metadata": {},
   "outputs": [],
   "source": []
  }
 ],
 "metadata": {
  "kernelspec": {
   "display_name": "scale_rl",
   "language": "python",
   "name": "python3"
  },
  "language_info": {
   "codemirror_mode": {
    "name": "ipython",
    "version": 3
   },
   "file_extension": ".py",
   "mimetype": "text/x-python",
   "name": "python",
   "nbconvert_exporter": "python",
   "pygments_lexer": "ipython3",
   "version": "3.9.5"
  }
 },
 "nbformat": 4,
 "nbformat_minor": 2
}
